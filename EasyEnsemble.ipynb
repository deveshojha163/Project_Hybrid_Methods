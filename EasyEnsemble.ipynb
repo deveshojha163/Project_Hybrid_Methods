{
  "cells": [
    {
      "cell_type": "markdown",
      "metadata": {
        "id": "view-in-github",
        "colab_type": "text"
      },
      "source": [
        "<a href=\"https://colab.research.google.com/github/deveshojha163/Project_Hybrid_Methods/blob/main/EasyEnsemble.ipynb\" target=\"_parent\"><img src=\"https://colab.research.google.com/assets/colab-badge.svg\" alt=\"Open In Colab\"/></a>"
      ]
    },
    {
      "cell_type": "code",
      "execution_count": 2,
      "metadata": {
        "colab": {
          "base_uri": "https://localhost:8080/"
        },
        "id": "H7qvZ5HFWi2M",
        "outputId": "6cf5ec63-80d7-4824-bb5a-315ef38959e4"
      },
      "outputs": [
        {
          "output_type": "stream",
          "name": "stderr",
          "text": [
            "/usr/local/lib/python3.10/dist-packages/imblearn/ensemble/_easy_ensemble.py:277: FutureWarning: `base_estimator` was renamed to `estimator` in version 0.10 and will be removed in 0.12.\n",
            "  warnings.warn(\n"
          ]
        },
        {
          "output_type": "stream",
          "name": "stdout",
          "text": [
            "Accuracy: 0.97\n",
            "Confusion Matrix:\n",
            "[[69  2]\n",
            " [ 1 42]]\n",
            "Classification Report:\n",
            "              precision    recall  f1-score   support\n",
            "\n",
            "           B       0.99      0.97      0.98        71\n",
            "           M       0.95      0.98      0.97        43\n",
            "\n",
            "    accuracy                           0.97       114\n",
            "   macro avg       0.97      0.97      0.97       114\n",
            "weighted avg       0.97      0.97      0.97       114\n",
            "\n"
          ]
        }
      ],
      "source": [
        "import pandas as pd\n",
        "from imblearn.ensemble import EasyEnsembleClassifier\n",
        "from sklearn.model_selection import train_test_split\n",
        "from sklearn.ensemble import RandomForestClassifier\n",
        "from sklearn.metrics import accuracy_score, confusion_matrix, classification_report\n",
        "import matplotlib.pyplot as plt\n",
        "\n",
        "\n",
        "\n",
        "# Load your dataset here\n",
        "# Replace 'path_to_your_dataset.csv' with the actual path to your dataset file\n",
        "dataset_path = '/content/breast-cancer.csv'\n",
        "df = pd.read_csv(dataset_path)\n",
        "\n",
        "# Assuming 'features' contains the feature columns and 'target' is the target variable column\n",
        "features = df.drop('diagnosis', axis=1)\n",
        "target = df['diagnosis']\n",
        "\n",
        "\n",
        "# Splitting the dataset into training and testing sets\n",
        "X_train, X_test, y_train, y_test = train_test_split(features, target, test_size=0.2, random_state=42)\n",
        "\n",
        "# Instantiate EasyEnsembleClassifier with a RandomForestClassifier as the base estimator\n",
        "easy_ensemble = EasyEnsembleClassifier(\n",
        "    n_estimators=10,  # Number of base estimators (randomly undersampled subsets)\n",
        "    base_estimator=RandomForestClassifier(random_state=42)  # Base classifier\n",
        ")\n",
        "\n",
        "# Train the EasyEnsembleClassifier\n",
        "easy_ensemble.fit(X_train, y_train)\n",
        "\n",
        "# Make predictions on the test data\n",
        "y_pred = easy_ensemble.predict(X_test)\n",
        "\n",
        "# Evaluate the classifier's performance\n",
        "accuracy = accuracy_score(y_test, y_pred)\n",
        "conf_matrix = confusion_matrix(y_test, y_pred)\n",
        "class_report = classification_report(y_test, y_pred)\n",
        "\n",
        "# Print the evaluation metrics\n",
        "print(f\"Accuracy: {accuracy:.2f}\")\n",
        "print(\"Confusion Matrix:\")\n",
        "print(conf_matrix)\n",
        "print(\"Classification Report:\")\n",
        "print(class_report)\n"
      ]
    }
  ],
  "metadata": {
    "colab": {
      "provenance": [],
      "authorship_tag": "ABX9TyMV+XWypn5pdI6nFke4dGhJ",
      "include_colab_link": true
    },
    "kernelspec": {
      "display_name": "Python 3",
      "name": "python3"
    },
    "language_info": {
      "name": "python"
    }
  },
  "nbformat": 4,
  "nbformat_minor": 0
}